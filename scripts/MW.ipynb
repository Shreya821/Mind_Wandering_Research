{
 "cells": [
  {
   "cell_type": "code",
   "execution_count": 1,
   "id": "7204cc92-0bc7-4924-8fe7-f51c6accd42a",
   "metadata": {},
   "outputs": [
    {
     "name": "stdout",
     "output_type": "stream",
     "text": [
      "/home/shreya/Downloads/ds000030-download\n"
     ]
    }
   ],
   "source": [
    "import os\n",
    "\n",
    "print(os.getcwd())"
   ]
  },
  {
   "cell_type": "code",
   "execution_count": 2,
   "id": "344b0947-a77e-4b36-bef6-cc9fd4847080",
   "metadata": {},
   "outputs": [
    {
     "name": "stdout",
     "output_type": "stream",
     "text": [
      "     Subject ID  No. of Trials  Go Trials  Correct Go  Incorrect Go  \\\n",
      "0         10159            128         96          94             2   \n",
      "1         10171            128         96          95             1   \n",
      "2         10189            128         96          90             6   \n",
      "3         10206            128         96          91             5   \n",
      "4         10217            128         96          92             4   \n",
      "..          ...            ...        ...         ...           ...   \n",
      "250       70079            128         96          94             2   \n",
      "251       70080            128         96          88             8   \n",
      "252       70081            128         96          92             4   \n",
      "253       70083            128         96          93             3   \n",
      "254       70086            128         96          94             2   \n",
      "\n",
      "     Stop Trials  Successful Stop  Unsuccessful Stop  \n",
      "0             32               17                 15  \n",
      "1             32               19                 13  \n",
      "2             32               11                 21  \n",
      "3             32               15                 17  \n",
      "4             32               14                 18  \n",
      "..           ...              ...                ...  \n",
      "250           32               14                 18  \n",
      "251           32               11                 21  \n",
      "252           32               12                 20  \n",
      "253           32               17                 15  \n",
      "254           32               21                 11  \n",
      "\n",
      "[255 rows x 8 columns]\n"
     ]
    }
   ],
   "source": [
    "import pandas\n",
    "\n",
    "behavior_summary = pandas.read_csv('behavior_summary.tsv', sep = '\\t')\n",
    "\n",
    "print(behavior_summary)\n"
   ]
  },
  {
   "cell_type": "code",
   "execution_count": 3,
   "id": "241d08db-2d53-4796-af2b-3d6856d9e6fe",
   "metadata": {},
   "outputs": [
    {
     "name": "stdout",
     "output_type": "stream",
     "text": [
      "Reject data for subject 10189. Reason: Lower Percentage of Correct Go Trials.\n",
      "Reject data for subject 10206. Reason: Lower Percentage of Correct Go Trials.\n",
      "Reject data for subject 10225. Reason: Lower Percentage of Correct Go Trials.\n",
      "Reject data for subject 10249. Reason: Lower Percentage of Correct Go Trials.\n",
      "Reject data for subject 10290. Reason: Lower Percentage of Correct Go Trials.\n",
      "Reject data for subject 10376. Reason: Lower Percentage of Correct Go Trials.\n",
      "Reject data for subject 10377. Reason: Lower Percentage of Correct Go Trials.\n",
      "Reject data for subject 10527. Reason: Lower Percentage of Correct Go Trials.\n",
      "Reject data for subject 10678. Reason: Lower Percentage of Correct Go Trials.\n",
      "Reject data for subject 10697. Reason: Lower Percentage of Correct Go Trials.\n",
      "Reject data for subject 10855. Reason: Lower Percentage of Correct Go Trials.\n",
      "Reject data for subject 10893. Reason: Lower Percentage of Correct Go Trials.\n",
      "Reject data for subject 10977. Reason: Lower Percentage of Correct Go Trials.\n",
      "Reject data for subject 10998. Reason: Lower Percentage of Correct Go Trials.\n",
      "Reject data for subject 11097. Reason: Lower Percentage of Correct Go Trials.\n",
      "Reject data for subject 11105. Reason: Lower Percentage of Correct Go Trials.\n",
      "Reject data for subject 11112. Reason: Lower Percentage of Correct Go Trials.\n",
      "Reject data for subject 11122. Reason: Lower Percentage of Correct Go Trials.\n",
      "Reject data for subject 11142. Reason: Lower Percentage of Correct Go Trials.\n",
      "Reject data for subject 50004. Reason: Lower Percentage of Correct Go Trials.\n",
      "Reject data for subject 50005. Reason: Lower Percentage of Correct Go Trials.\n",
      "Reject data for subject 50007. Reason: Lower Percentage of Correct Go Trials.\n",
      "Reject data for subject 50008. Reason: Lower Percentage of Correct Go Trials.\n",
      "Reject data for subject 50010. Reason: Criteria for successful stop percentage not satisfied.\n",
      "Reject data for subject 50014. Reason: Lower Percentage of Correct Go Trials.\n",
      "Reject data for subject 50022. Reason: Lower Percentage of Correct Go Trials.\n",
      "Reject data for subject 50032. Reason: Lower Percentage of Correct Go Trials.\n",
      "Reject data for subject 50035. Reason: Lower Percentage of Correct Go Trials.\n",
      "Reject data for subject 50043. Reason: Lower Percentage of Correct Go Trials.\n",
      "Reject data for subject 50047. Reason: Lower Percentage of Correct Go Trials.\n",
      "Reject data for subject 50050. Reason: Lower Percentage of Correct Go Trials.\n",
      "Reject data for subject 50051. Reason: Lower Percentage of Correct Go Trials.\n",
      "Reject data for subject 50052. Reason: Lower Percentage of Correct Go Trials.\n",
      "Reject data for subject 50064. Reason: Lower Percentage of Correct Go Trials.\n",
      "Reject data for subject 50066. Reason: Lower Percentage of Correct Go Trials.\n",
      "Reject data for subject 50067. Reason: Lower Percentage of Correct Go Trials.\n",
      "Reject data for subject 50077. Reason: Lower Percentage of Correct Go Trials.\n",
      "Reject data for subject 50083. Reason: Lower Percentage of Correct Go Trials.\n",
      "Reject data for subject 60006. Reason: Lower Percentage of Correct Go Trials.\n",
      "Reject data for subject 60010. Reason: Lower Percentage of Correct Go Trials.\n",
      "Reject data for subject 60016. Reason: Lower Percentage of Correct Go Trials.\n",
      "Reject data for subject 60017. Reason: Lower Percentage of Correct Go Trials.\n",
      "Reject data for subject 60022. Reason: Lower Percentage of Correct Go Trials.\n",
      "Reject data for subject 60038. Reason: Lower Percentage of Correct Go Trials.\n",
      "Reject data for subject 60052. Reason: Lower Percentage of Correct Go Trials.\n",
      "Reject data for subject 60065. Reason: Lower Percentage of Correct Go Trials.\n",
      "Reject data for subject 60070. Reason: Lower Percentage of Correct Go Trials.\n",
      "Reject data for subject 60073. Reason: Lower Percentage of Correct Go Trials.\n",
      "Reject data for subject 60078. Reason: Lower Percentage of Correct Go Trials.\n",
      "Reject data for subject 60080. Reason: Lower Percentage of Correct Go Trials.\n",
      "Reject data for subject 60087. Reason: Lower Percentage of Correct Go Trials.\n",
      "Reject data for subject 70021. Reason: Lower Percentage of Correct Go Trials.\n",
      "Reject data for subject 70035. Reason: Lower Percentage of Correct Go Trials.\n",
      "Reject data for subject 70048. Reason: Lower Percentage of Correct Go Trials.\n",
      "Reject data for subject 70051. Reason: Lower Percentage of Correct Go Trials.\n",
      "Reject data for subject 70055. Reason: Lower Percentage of Correct Go Trials.\n",
      "Reject data for subject 70075. Reason: Lower Percentage of Correct Go Trials.\n",
      "Reject data for subject 70080. Reason: Lower Percentage of Correct Go Trials.\n"
     ]
    }
   ],
   "source": [
    "for i in range(len(behavior_summary)):\n",
    "    correct_go_percentage = behavior_summary.loc[i].at[\"Correct Go\"] / behavior_summary.loc[i].at[\"Go Trials\"]\n",
    "    successful_stop_percentage = behavior_summary.loc[i].at[\"Successful Stop\"] / behavior_summary.loc[i].at[\"Stop Trials\"]\n",
    "    \n",
    "    if(correct_go_percentage < 0.95):\n",
    "        print(f'Reject data for subject { behavior_summary.loc[i].at[\"Subject ID\"] }. Reason: Lower Percentage of Correct Go Trials.')\n",
    "    elif(successful_stop_percentage < 0.25 or successful_stop_percentage > 0.75):\n",
    "        print(f'Reject data for subject { behavior_summary.loc[i].at[\"Subject ID\"] }. Reason: Criteria for successful stop percentage not satisfied.')\n"
   ]
  }
 ],
 "metadata": {
  "kernelspec": {
   "display_name": "Python 3 (ipykernel)",
   "language": "python",
   "name": "python3"
  },
  "language_info": {
   "codemirror_mode": {
    "name": "ipython",
    "version": 3
   },
   "file_extension": ".py",
   "mimetype": "text/x-python",
   "name": "python",
   "nbconvert_exporter": "python",
   "pygments_lexer": "ipython3",
   "version": "3.10.12"
  }
 },
 "nbformat": 4,
 "nbformat_minor": 5
}
